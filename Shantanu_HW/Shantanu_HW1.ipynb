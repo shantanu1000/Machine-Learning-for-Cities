{
 "cells": [
  {
   "cell_type": "markdown",
   "metadata": {},
   "source": [
    "Total points for this HW: 100. Bonus points: 10.\n",
    "\n",
    "Please note: Copying and pasting other people's work is absolutely prohibited.  Any such cases will be reported to CUSP's education team and severely punished. Discussion is encouraged, and feel free to exchange ideas with your classmates, but please write your own code and do your own work."
   ]
  },
  {
   "cell_type": "markdown",
   "metadata": {},
   "source": [
    "### Question 1: Accuracy and interpretability (10 pts)\n",
    "\n",
    "a) Describe a real-world prediction problem using urban data for which _interpretability_ of your models and results is essential, and for which it might be preferable to use decision trees rather than random forests.  Argue why this is the case. (3 pts)"
   ]
  },
  {
   "cell_type": "markdown",
   "metadata": {},
   "source": [
    "If for real estate data, if we were to predict sales price or price per sq ft of a house, the factors affecting the sale price depends of floor area, locality of the building, height, type of the house or building. For such cases interpretability becomes more important as the variables affecting the price are many, but we may might find a certain order between them. Its important to find the price range that a particular house might fit into, to keep space for certain negotiation rather than fixing on an accurate price.\n",
    "In this regard, using descision trees becomes preferable as its easy to interpret results of the variable with faster training time for the model. Using Descision trees is also important for making a quick data driven descision to bargain or increase a sale price of a house with the model and good justification can be provided for increase or decrease of sale price.  "
   ]
  },
  {
   "cell_type": "markdown",
   "metadata": {},
   "source": [
    "b) Describe a real-world prediction problem using urban data for which _accuracy_ is paramount and interpretability may be less important, and for which it might be preferable to use random forests rather than decision trees.  Argue why this is the case. (3 pts)"
   ]
  },
  {
   "cell_type": "markdown",
   "metadata": {},
   "source": [
    "For certain cases like a global pandemic, accuracy of the model is of paramount importance to distribute civic, hospital and staff government resources across locations, subject to which areas would be the most affected in future and how many people would be tested positive . If we can accurately predict a model for this, efficient use of taxpayers money could be achieved but if the accuracy of the model decreased if would be hard to allocate resources. As screening population is a very large dataset, along with accuracy keeping track of spread of virus becomes difficult through a single descision tree, therefore a random forrest classifier becomes more usefull considering its a aggregation of different descision classifiers, so the probability of it being right is more."
   ]
  },
  {
   "cell_type": "markdown",
   "metadata": {},
   "source": [
    "c) Let's imagine that you want to try to get the best of both worlds (accuracy _and_ interpretability).  So you decide to start by learning a random forest classifier.  Describe at least one way of getting some interpretability out of the model by post-processing.  You could either pick a method from the literature (e.g., Domingos's work on combining multiple models or some method of computing variable importance), or come up with your own approach (doesn't have to be ground-breaking, but feel free to be creative!) (4 pts)"
   ]
  },
  {
   "cell_type": "markdown",
   "metadata": {},
   "source": [
    "One of the method to interpret models could be to set up the gini importance of each variable to reflect on which variable could be most affecting the model. With the order of sequencing we can find out the said correlation of the variable and the predictor and perform a bottom up approach to interpret the model through these variables.We could also make a reverse tree on a random forrest by finding the mean model between a set of each bootstrap aggregator and trying to interpret it. The global idea of these mean models could help us beeter understand the final output."
   ]
  },
  {
   "cell_type": "markdown",
   "metadata": {},
   "source": [
    "###  Question 2: Build a decision tree for classification, step by step, following the lecture notes. Note that the dataset has been slightly modified, so you will get a different tree than the one shown in the lecture notes.  (30 points)"
   ]
  },
  {
   "cell_type": "code",
   "execution_count": 1,
   "metadata": {},
   "outputs": [],
   "source": [
    "import pandas as pd\n",
    "import numpy as np"
   ]
  },
  {
   "cell_type": "code",
   "execution_count": 2,
   "metadata": {},
   "outputs": [
    {
     "data": {
      "text/html": [
       "<div>\n",
       "<style scoped>\n",
       "    .dataframe tbody tr th:only-of-type {\n",
       "        vertical-align: middle;\n",
       "    }\n",
       "\n",
       "    .dataframe tbody tr th {\n",
       "        vertical-align: top;\n",
       "    }\n",
       "\n",
       "    .dataframe thead th {\n",
       "        text-align: right;\n",
       "    }\n",
       "</style>\n",
       "<table border=\"1\" class=\"dataframe\">\n",
       "  <thead>\n",
       "    <tr style=\"text-align: right;\">\n",
       "      <th></th>\n",
       "      <th>MPG</th>\n",
       "      <th>cylinders</th>\n",
       "      <th>HP</th>\n",
       "      <th>weight</th>\n",
       "    </tr>\n",
       "  </thead>\n",
       "  <tbody>\n",
       "    <tr>\n",
       "      <th>0</th>\n",
       "      <td>good</td>\n",
       "      <td>4</td>\n",
       "      <td>75</td>\n",
       "      <td>light</td>\n",
       "    </tr>\n",
       "    <tr>\n",
       "      <th>1</th>\n",
       "      <td>bad</td>\n",
       "      <td>6</td>\n",
       "      <td>90</td>\n",
       "      <td>medium</td>\n",
       "    </tr>\n",
       "    <tr>\n",
       "      <th>2</th>\n",
       "      <td>bad</td>\n",
       "      <td>4</td>\n",
       "      <td>110</td>\n",
       "      <td>medium</td>\n",
       "    </tr>\n",
       "    <tr>\n",
       "      <th>3</th>\n",
       "      <td>bad</td>\n",
       "      <td>8</td>\n",
       "      <td>175</td>\n",
       "      <td>weighty</td>\n",
       "    </tr>\n",
       "    <tr>\n",
       "      <th>4</th>\n",
       "      <td>bad</td>\n",
       "      <td>6</td>\n",
       "      <td>95</td>\n",
       "      <td>medium</td>\n",
       "    </tr>\n",
       "    <tr>\n",
       "      <th>5</th>\n",
       "      <td>bad</td>\n",
       "      <td>4</td>\n",
       "      <td>94</td>\n",
       "      <td>light</td>\n",
       "    </tr>\n",
       "    <tr>\n",
       "      <th>6</th>\n",
       "      <td>bad</td>\n",
       "      <td>4</td>\n",
       "      <td>95</td>\n",
       "      <td>light</td>\n",
       "    </tr>\n",
       "    <tr>\n",
       "      <th>7</th>\n",
       "      <td>bad</td>\n",
       "      <td>8</td>\n",
       "      <td>139</td>\n",
       "      <td>weighty</td>\n",
       "    </tr>\n",
       "    <tr>\n",
       "      <th>8</th>\n",
       "      <td>bad</td>\n",
       "      <td>8</td>\n",
       "      <td>190</td>\n",
       "      <td>weighty</td>\n",
       "    </tr>\n",
       "    <tr>\n",
       "      <th>9</th>\n",
       "      <td>bad</td>\n",
       "      <td>8</td>\n",
       "      <td>145</td>\n",
       "      <td>weighty</td>\n",
       "    </tr>\n",
       "    <tr>\n",
       "      <th>10</th>\n",
       "      <td>bad</td>\n",
       "      <td>6</td>\n",
       "      <td>100</td>\n",
       "      <td>medium</td>\n",
       "    </tr>\n",
       "    <tr>\n",
       "      <th>11</th>\n",
       "      <td>good</td>\n",
       "      <td>4</td>\n",
       "      <td>92</td>\n",
       "      <td>medium</td>\n",
       "    </tr>\n",
       "    <tr>\n",
       "      <th>12</th>\n",
       "      <td>bad</td>\n",
       "      <td>6</td>\n",
       "      <td>100</td>\n",
       "      <td>weighty</td>\n",
       "    </tr>\n",
       "    <tr>\n",
       "      <th>13</th>\n",
       "      <td>bad</td>\n",
       "      <td>8</td>\n",
       "      <td>170</td>\n",
       "      <td>weighty</td>\n",
       "    </tr>\n",
       "    <tr>\n",
       "      <th>14</th>\n",
       "      <td>good</td>\n",
       "      <td>4</td>\n",
       "      <td>89</td>\n",
       "      <td>medium</td>\n",
       "    </tr>\n",
       "    <tr>\n",
       "      <th>15</th>\n",
       "      <td>good</td>\n",
       "      <td>4</td>\n",
       "      <td>65</td>\n",
       "      <td>light</td>\n",
       "    </tr>\n",
       "    <tr>\n",
       "      <th>16</th>\n",
       "      <td>bad</td>\n",
       "      <td>6</td>\n",
       "      <td>85</td>\n",
       "      <td>medium</td>\n",
       "    </tr>\n",
       "    <tr>\n",
       "      <th>17</th>\n",
       "      <td>good</td>\n",
       "      <td>4</td>\n",
       "      <td>81</td>\n",
       "      <td>light</td>\n",
       "    </tr>\n",
       "    <tr>\n",
       "      <th>18</th>\n",
       "      <td>bad</td>\n",
       "      <td>6</td>\n",
       "      <td>95</td>\n",
       "      <td>medium</td>\n",
       "    </tr>\n",
       "    <tr>\n",
       "      <th>19</th>\n",
       "      <td>bad</td>\n",
       "      <td>4</td>\n",
       "      <td>93</td>\n",
       "      <td>light</td>\n",
       "    </tr>\n",
       "  </tbody>\n",
       "</table>\n",
       "</div>"
      ],
      "text/plain": [
       "     MPG  cylinders   HP   weight\n",
       "0   good          4   75    light\n",
       "1    bad          6   90   medium\n",
       "2    bad          4  110   medium\n",
       "3    bad          8  175  weighty\n",
       "4    bad          6   95   medium\n",
       "5    bad          4   94    light\n",
       "6    bad          4   95    light\n",
       "7    bad          8  139  weighty\n",
       "8    bad          8  190  weighty\n",
       "9    bad          8  145  weighty\n",
       "10   bad          6  100   medium\n",
       "11  good          4   92   medium\n",
       "12   bad          6  100  weighty\n",
       "13   bad          8  170  weighty\n",
       "14  good          4   89   medium\n",
       "15  good          4   65    light\n",
       "16   bad          6   85   medium\n",
       "17  good          4   81    light\n",
       "18   bad          6   95   medium\n",
       "19   bad          4   93    light"
      ]
     },
     "execution_count": 2,
     "metadata": {},
     "output_type": "execute_result"
    }
   ],
   "source": [
    "import io\n",
    "thefile = io.StringIO('MPG,cylinders,HP,weight\\ngood,4,75,light\\nbad,6,90,medium\\nbad,4,110,medium\\nbad,8,175,weighty\\nbad,6,95,medium\\nbad,4,94,light\\nbad,4,95,light\\nbad,8,139,weighty\\nbad,8,190,weighty\\nbad,8,145,weighty\\nbad,6,100,medium\\ngood,4,92,medium\\nbad,6,100,weighty\\nbad,8,170,weighty\\ngood,4,89,medium\\ngood,4,65,light\\nbad,6,85,medium\\ngood,4,81,light\\nbad,6,95,medium\\nbad,4,93,light')\n",
    "df = pd.read_csv(thefile)\n",
    "df"
   ]
  },
  {
   "cell_type": "markdown",
   "metadata": {},
   "source": [
    "### Please use numpy and pandas to do the computation for parts a) through f).  Do not use an existing decision tree implementation like sklearn for this question."
   ]
  },
  {
   "cell_type": "markdown",
   "metadata": {},
   "source": [
    "a) Start with the entire dataset and find the most common MPG value. (2 pts)"
   ]
  },
  {
   "cell_type": "code",
   "execution_count": 3,
   "metadata": {},
   "outputs": [
    {
     "data": {
      "text/plain": [
       "bad     15\n",
       "good     5\n",
       "Name: MPG, dtype: int64"
      ]
     },
     "execution_count": 3,
     "metadata": {},
     "output_type": "execute_result"
    }
   ],
   "source": [
    "df['MPG'].value_counts()"
   ]
  },
  {
   "cell_type": "code",
   "execution_count": 4,
   "metadata": {},
   "outputs": [],
   "source": [
    "def InformationGain(goodY,badY,goodN,badN):\n",
    "    def F(X,Y):\n",
    "        val1 = X*np.log2(1.*(X+Y)/X) if X>0 else 0\n",
    "        val2 = Y*np.log2(1.*(X+Y)/Y) if Y>0 else 0\n",
    "        return val1+val2\n",
    "    return (F(goodY+goodN,badY+badN)-F(goodY,badY)-F(goodN,badN)) / (goodY+goodN+badY+badN)"
   ]
  },
  {
   "cell_type": "markdown",
   "metadata": {},
   "source": [
    "b) Enumerate all the possible binary questions you could ask for each discrete-valued variable.  For each such split, compute the numbers of \"good\" and \"bad\" MPG vehicles in each of the two child nodes, and compute the information gain using the provided function above. (5 pts)"
   ]
  },
  {
   "cell_type": "code",
   "execution_count": 5,
   "metadata": {},
   "outputs": [
    {
     "name": "stdout",
     "output_type": "stream",
     "text": [
      "['good' 'bad']\n"
     ]
    },
    {
     "data": {
      "text/plain": [
       "5"
      ]
     },
     "execution_count": 5,
     "metadata": {},
     "output_type": "execute_result"
    }
   ],
   "source": [
    "df1 =df[df['cylinders']<=4]\n",
    "df2 =df[df['cylinders']>4]\n",
    "print(df1['MPG'].unique())\n",
    "\n",
    "\n",
    "\n",
    "df1['MPG'].value_counts().get('good',0)"
   ]
  },
  {
   "cell_type": "code",
   "execution_count": 6,
   "metadata": {},
   "outputs": [],
   "source": [
    "def threshold(a):\n",
    "    df1 =df[df['cylinders']==a]\n",
    "    df2 =df[df['cylinders']!=a]\n",
    "    b=df1['MPG'].value_counts().get('good',0) if df1['MPG'].value_counts().get('good',0) >0 else 0\n",
    "    c=df1['MPG'].value_counts().get('bad',0) if df1['MPG'].value_counts().get('bad',0) >0 else 0\n",
    "    d=df2['MPG'].value_counts().get('good',0) if df2['MPG'].value_counts().get('good',0)>0  else 0\n",
    "    e=df2['MPG'].value_counts().get('bad',0) if df2['MPG'].value_counts().get('bad',0) >0 else 0\n",
    "    return b,c,d,e\n",
    "    "
   ]
  },
  {
   "cell_type": "code",
   "execution_count": 7,
   "metadata": {},
   "outputs": [
    {
     "name": "stdout",
     "output_type": "stream",
     "text": [
      "(5, 4, 0, 11)\n"
     ]
    },
    {
     "data": {
      "text/plain": [
       "0.3652938975319328"
      ]
     },
     "execution_count": 7,
     "metadata": {},
     "output_type": "execute_result"
    }
   ],
   "source": [
    "print(threshold(4))       \n",
    "value1 = InformationGain(5,4,0,11)\n",
    "value1\n",
    "\n"
   ]
  },
  {
   "cell_type": "code",
   "execution_count": 8,
   "metadata": {},
   "outputs": [
    {
     "name": "stdout",
     "output_type": "stream",
     "text": [
      "(0, 6, 5, 9)\n"
     ]
    },
    {
     "data": {
      "text/plain": [
       "0.15307795338969116"
      ]
     },
     "execution_count": 8,
     "metadata": {},
     "output_type": "execute_result"
    }
   ],
   "source": [
    "print(threshold(6))\n",
    "value2 = InformationGain(0,6,5,9)\n",
    "value2"
   ]
  },
  {
   "cell_type": "code",
   "execution_count": 9,
   "metadata": {},
   "outputs": [
    {
     "name": "stdout",
     "output_type": "stream",
     "text": [
      "(0, 5, 5, 10)\n"
     ]
    },
    {
     "data": {
      "text/plain": [
       "0.1225562489182657"
      ]
     },
     "execution_count": 9,
     "metadata": {},
     "output_type": "execute_result"
    }
   ],
   "source": [
    "print(threshold(8))\n",
    "value3 = InformationGain(0,5,5,10)\n",
    "value3"
   ]
  },
  {
   "cell_type": "code",
   "execution_count": 10,
   "metadata": {},
   "outputs": [],
   "source": [
    "def threshold_(a):\n",
    "    df1 =df[df['weight']==a]\n",
    "    df2 =df[df['weight']!=a]\n",
    "    b=df1['MPG'].value_counts().get('good',0) if df1['MPG'].value_counts().get('good',0) >0 else 0\n",
    "    c=df1['MPG'].value_counts().get('bad',0) if df1['MPG'].value_counts().get('bad',0) >0 else 0\n",
    "    d=df2['MPG'].value_counts().get('good',0) if df2['MPG'].value_counts().get('good',0)>0  else 0\n",
    "    e=df2['MPG'].value_counts().get('bad',0) if df2['MPG'].value_counts().get('bad',0) >0 else 0\n",
    "    return b,c,d,e"
   ]
  },
  {
   "cell_type": "code",
   "execution_count": 11,
   "metadata": {},
   "outputs": [
    {
     "name": "stdout",
     "output_type": "stream",
     "text": [
      "(3, 3, 2, 12)\n"
     ]
    },
    {
     "data": {
      "text/plain": [
       "0.09710717945150363"
      ]
     },
     "execution_count": 11,
     "metadata": {},
     "output_type": "execute_result"
    }
   ],
   "source": [
    "print(threshold_('light'))\n",
    "value_light = InformationGain(3,3,2,12)\n",
    "value_light"
   ]
  },
  {
   "cell_type": "code",
   "execution_count": 12,
   "metadata": {},
   "outputs": [
    {
     "name": "stdout",
     "output_type": "stream",
     "text": [
      "(2, 6, 3, 9)\n"
     ]
    },
    {
     "data": {
      "text/plain": [
       "0.0"
      ]
     },
     "execution_count": 12,
     "metadata": {},
     "output_type": "execute_result"
    }
   ],
   "source": [
    "print(threshold_('medium'))\n",
    "value_medium = InformationGain(2,6,3,9)\n",
    "value_medium"
   ]
  },
  {
   "cell_type": "code",
   "execution_count": 13,
   "metadata": {},
   "outputs": [
    {
     "name": "stdout",
     "output_type": "stream",
     "text": [
      "(0, 6, 5, 9)\n"
     ]
    },
    {
     "data": {
      "text/plain": [
       "0.15307795338969116"
      ]
     },
     "execution_count": 13,
     "metadata": {},
     "output_type": "execute_result"
    }
   ],
   "source": [
    "print(threshold_('weighty'))\n",
    "value_weighty = InformationGain(0,6,5,9)\n",
    "value_weighty"
   ]
  },
  {
   "cell_type": "code",
   "execution_count": null,
   "metadata": {},
   "outputs": [],
   "source": []
  },
  {
   "cell_type": "code",
   "execution_count": null,
   "metadata": {},
   "outputs": [],
   "source": []
  },
  {
   "cell_type": "code",
   "execution_count": 14,
   "metadata": {},
   "outputs": [],
   "source": [
    "def threshold_b(a):\n",
    "    df1 =df[df['HP']<=a]\n",
    "    df2 =df[df['HP']>a]\n",
    "    b=df1['MPG'].value_counts().get('good',0) if df1['MPG'].value_counts().get('good',0) >0 else 0\n",
    "    c=df1['MPG'].value_counts().get('bad',0) if df1['MPG'].value_counts().get('bad',0) >0 else 0\n",
    "    d=df2['MPG'].value_counts().get('good',0) if df2['MPG'].value_counts().get('good',0)>0  else 0\n",
    "    e=df2['MPG'].value_counts().get('bad',0) if df2['MPG'].value_counts().get('bad',0) >0 else 0\n",
    "    return b,c,d,e"
   ]
  },
  {
   "cell_type": "code",
   "execution_count": 15,
   "metadata": {},
   "outputs": [
    {
     "name": "stdout",
     "output_type": "stream",
     "text": [
      "108.9\n",
      "190\n",
      "65\n"
     ]
    }
   ],
   "source": [
    "print(df['HP'].mean())\n",
    "print(df['HP'].max())\n",
    "print(df['HP'].min())\n",
    "\n"
   ]
  },
  {
   "cell_type": "code",
   "execution_count": null,
   "metadata": {},
   "outputs": [],
   "source": []
  },
  {
   "cell_type": "code",
   "execution_count": null,
   "metadata": {},
   "outputs": [],
   "source": []
  },
  {
   "cell_type": "code",
   "execution_count": 16,
   "metadata": {},
   "outputs": [
    {
     "name": "stdout",
     "output_type": "stream",
     "text": [
      "(5, 9, 0, 6)\n"
     ]
    },
    {
     "data": {
      "text/plain": [
       "0.15307795338969116"
      ]
     },
     "execution_count": 16,
     "metadata": {},
     "output_type": "execute_result"
    }
   ],
   "source": [
    "print(threshold_b(108.9))\n",
    "value4 = InformationGain(5,9,0,6)\n",
    "value4"
   ]
  },
  {
   "cell_type": "code",
   "execution_count": 17,
   "metadata": {},
   "outputs": [
    {
     "name": "stdout",
     "output_type": "stream",
     "text": [
      "(3, 1, 2, 14)\n"
     ]
    },
    {
     "data": {
      "text/plain": [
       "0.21417094500762923"
      ]
     },
     "execution_count": 17,
     "metadata": {},
     "output_type": "execute_result"
    }
   ],
   "source": [
    "print(threshold_b(87))\n",
    "value5 = InformationGain(3,1,2,14)\n",
    "value5\n"
   ]
  },
  {
   "cell_type": "code",
   "execution_count": 18,
   "metadata": {},
   "outputs": [
    {
     "name": "stdout",
     "output_type": "stream",
     "text": [
      "(5, 12, 0, 3)\n"
     ]
    },
    {
     "data": {
      "text/plain": [
       "0.06839423355087862"
      ]
     },
     "execution_count": 18,
     "metadata": {},
     "output_type": "execute_result"
    }
   ],
   "source": [
    "print(threshold_b(150))\n",
    "value6 = InformationGain(5,12,0,3)\n",
    "value6\n"
   ]
  },
  {
   "cell_type": "code",
   "execution_count": 19,
   "metadata": {},
   "outputs": [
    {
     "name": "stdout",
     "output_type": "stream",
     "text": [
      "(5, 10, 0, 5)\n"
     ]
    },
    {
     "data": {
      "text/plain": [
       "0.1225562489182657"
      ]
     },
     "execution_count": 19,
     "metadata": {},
     "output_type": "execute_result"
    }
   ],
   "source": [
    "print(threshold_b(130))\n",
    "value7 = InformationGain(5,10,0,5)\n",
    "value7\n"
   ]
  },
  {
   "cell_type": "code",
   "execution_count": 20,
   "metadata": {},
   "outputs": [
    {
     "name": "stdout",
     "output_type": "stream",
     "text": [
      "(5, 2, 0, 13)\n"
     ]
    },
    {
     "data": {
      "text/plain": [
       "0.5091859254608121"
      ]
     },
     "execution_count": 20,
     "metadata": {},
     "output_type": "execute_result"
    }
   ],
   "source": [
    "print(threshold_b(92))\n",
    "value8 = InformationGain(5,2,0,13)\n",
    "value8\n"
   ]
  },
  {
   "cell_type": "code",
   "execution_count": 21,
   "metadata": {},
   "outputs": [
    {
     "name": "stdout",
     "output_type": "stream",
     "text": [
      "(2, 0, 3, 15)\n"
     ]
    },
    {
     "data": {
      "text/plain": [
       "0.22625794497561413"
      ]
     },
     "execution_count": 21,
     "metadata": {},
     "output_type": "execute_result"
    }
   ],
   "source": [
    "print(threshold_b(75))\n",
    "value9 = InformationGain(2,0,3,15)\n",
    "value9\n"
   ]
  },
  {
   "cell_type": "code",
   "execution_count": 22,
   "metadata": {},
   "outputs": [
    {
     "name": "stdout",
     "output_type": "stream",
     "text": [
      "(5, 9, 0, 6)\n"
     ]
    },
    {
     "data": {
      "text/plain": [
       "0.15307795338969116"
      ]
     },
     "execution_count": 22,
     "metadata": {},
     "output_type": "execute_result"
    }
   ],
   "source": [
    "print(threshold_b(100))\n",
    "value10 = InformationGain(5,9,0,6)\n",
    "value10\n"
   ]
  },
  {
   "cell_type": "markdown",
   "metadata": {},
   "source": [
    "c) Enumerate all the possible binary questions you could ask for the real-valued variable HP.  For each such split, compute the numbers of \"good\" and \"bad\" MPG vehicles in each of the two child nodes, and compute the information gain using the provided function above. (5 pts) \n",
    "\n",
    "NOTE: if you'd like, you can just use all midpoints between consecutive values of the sorted HP attribute.  You are not required to exclude provably suboptimal questions like we did in the lecture."
   ]
  },
  {
   "cell_type": "code",
   "execution_count": 23,
   "metadata": {},
   "outputs": [],
   "source": [
    "# Refer Previous step"
   ]
  },
  {
   "cell_type": "markdown",
   "metadata": {},
   "source": [
    "d) Based on your results for parts b and c, what is the optimal binary split of the data?  Of the two child nodes created by this split, which (if any) would require further partitioning? (4 pts)"
   ]
  },
  {
   "cell_type": "markdown",
   "metadata": {},
   "source": [
    "According to the maximum information gain, the optimal binary split of the data is divinding the data by cylinder if they are split by HP >92 .Then dividing the data with the split through HP>75 and later if required divide through HP>87 or HP >100. We can use the weight category for the lower trees as their information gain is less."
   ]
  },
  {
   "cell_type": "markdown",
   "metadata": {},
   "source": [
    "e) Repeat parts a through d until all training data points are perfectly classified by the resulting tree. (6 pts)"
   ]
  },
  {
   "cell_type": "code",
   "execution_count": 24,
   "metadata": {},
   "outputs": [
    {
     "name": "stdout",
     "output_type": "stream",
     "text": [
      "(5, 2, 0, 13)\n"
     ]
    }
   ],
   "source": [
    "print(threshold_b(92))       \n",
    "\n",
    "df_HPl92 = df[df['HP']<92]\n",
    "\n"
   ]
  },
  {
   "cell_type": "code",
   "execution_count": 25,
   "metadata": {},
   "outputs": [
    {
     "name": "stdout",
     "output_type": "stream",
     "text": [
      "good    3\n",
      "bad     2\n",
      "Name: MPG, dtype: int64\n",
      "good    1\n",
      "Name: MPG, dtype: int64\n"
     ]
    }
   ],
   "source": [
    "df_HPm75 = df_HPl92[df_HPl92['HP']>=75]\n",
    "df_HPl75 = df_HPl92[df_HPl92['HP']<75]\n",
    "\n",
    "print(df_HPm75['MPG'].value_counts())\n",
    "print(df_HPl75['MPG'].value_counts())\n",
    "\n",
    "\n"
   ]
  },
  {
   "cell_type": "code",
   "execution_count": 26,
   "metadata": {},
   "outputs": [
    {
     "name": "stdout",
     "output_type": "stream",
     "text": [
      "good    1\n",
      "bad     1\n",
      "Name: MPG, dtype: int64\n",
      "good    2\n",
      "bad     1\n",
      "Name: MPG, dtype: int64\n"
     ]
    }
   ],
   "source": [
    "df_HPm87 = df_HPm75[df_HPm75['HP']>=87]\n",
    "df_HPl87 = df_HPm75[df_HPm75['HP']<87]\n",
    "print(df_HPm87['MPG'].value_counts())\n",
    "print(df_HPl87['MPG'].value_counts())\n"
   ]
  },
  {
   "cell_type": "code",
   "execution_count": 27,
   "metadata": {},
   "outputs": [
    {
     "name": "stdout",
     "output_type": "stream",
     "text": [
      "Series([], Name: MPG, dtype: int64)\n",
      "good    1\n",
      "bad     1\n",
      "Name: MPG, dtype: int64\n"
     ]
    }
   ],
   "source": [
    "df_wl = df_HPm87[df_HPm87['weight']== 'light']\n",
    "df_wnl = df_HPm87[df_HPm87['weight']!='light']\n",
    "\n",
    "\n",
    "print(df_wl['MPG'].value_counts())\n",
    "print(df_wnl['MPG'].value_counts())\n",
    "\n",
    "\n"
   ]
  },
  {
   "cell_type": "code",
   "execution_count": 28,
   "metadata": {},
   "outputs": [
    {
     "name": "stdout",
     "output_type": "stream",
     "text": [
      "good    1\n",
      "Name: MPG, dtype: int64\n"
     ]
    }
   ],
   "source": [
    "df_cyl4= df_wnl[df_wnl['cylinders']==4]\n",
    "\n",
    "print(df_cyl4['MPG'].value_counts())\n"
   ]
  },
  {
   "cell_type": "code",
   "execution_count": 29,
   "metadata": {},
   "outputs": [
    {
     "name": "stdout",
     "output_type": "stream",
     "text": [
      "good    2\n",
      "Name: MPG, dtype: int64\n",
      "bad    1\n",
      "Name: MPG, dtype: int64\n"
     ]
    }
   ],
   "source": [
    "df_wl2= df_HPl87[df_HPl87['weight']== 'light']\n",
    "df_wnl2= df_HPl87[df_HPl87['weight']!= 'light']\n",
    "print(df_wl2['MPG'].value_counts())\n",
    "print(df_wnl2['MPG'].value_counts())\n"
   ]
  },
  {
   "cell_type": "markdown",
   "metadata": {},
   "source": [
    "f) Draw or show the final decision tree in a format of your choice.  The decision to make at each step and the predicted value at each leaf node must be clear. (4 pts)"
   ]
  },
  {
   "cell_type": "markdown",
   "metadata": {},
   "source": [
    "                                                        Descision Tree \n",
    "                                           \n",
    "                                                           DF HP<92\n",
    "                                         Y                                           N\n",
    "                                   (5good, 2 bad)                             (0 good, 13 bad)\n",
    "                                   \n",
    "                                     DF HP>75\n",
    "                              Y                     N       \n",
    "                          (3good,2bad)              (1good, 0 bad)\n",
    "                    \n",
    "                              DF HP>87                   \n",
    "                      Y                        N    \n",
    "                  (2good,1bad)             (1good,1bad)   \n",
    "                 weight = light?           cylinder = 4?\n",
    "                                            \n",
    "                 Y           N              Y           N\n",
    "        (2 good, 0 bad)  (0 good, 1 bad)(1 good, 0 bad)(0 good, 1 bad)\n",
    "                  \n",
    "                                   \n",
    "                                   "
   ]
  },
  {
   "cell_type": "markdown",
   "metadata": {},
   "source": [
    "g) Classify each of the following four vehicles as having \"good\" or \"bad\" fuel efficiency (miles per gallon).  Do this by hand using the tree structure learned in part f. (4 pts)\n",
    "\n",
    "???,4,95,light = bad\n",
    "\n",
    "???,6,113,medium = bad\n",
    "\n",
    "???,4,83,weighty = good\n",
    "\n",
    "???,6,70,weighty = good\n"
   ]
  },
  {
   "cell_type": "markdown",
   "metadata": {},
   "source": [
    "### Question 3, Predicting burden of disease （40 pts)"
   ]
  },
  {
   "cell_type": "code",
   "execution_count": 30,
   "metadata": {},
   "outputs": [
    {
     "data": {
      "text/html": [
       "<div>\n",
       "<style scoped>\n",
       "    .dataframe tbody tr th:only-of-type {\n",
       "        vertical-align: middle;\n",
       "    }\n",
       "\n",
       "    .dataframe tbody tr th {\n",
       "        vertical-align: top;\n",
       "    }\n",
       "\n",
       "    .dataframe thead th {\n",
       "        text-align: right;\n",
       "    }\n",
       "</style>\n",
       "<table border=\"1\" class=\"dataframe\">\n",
       "  <thead>\n",
       "    <tr style=\"text-align: right;\">\n",
       "      <th></th>\n",
       "      <th>Country</th>\n",
       "      <th>FrxnPeaceIn10</th>\n",
       "      <th>ODA4H2OPcptaDol</th>\n",
       "      <th>RenewResm3PcptaYr</th>\n",
       "      <th>SustAccImprWatRur</th>\n",
       "      <th>SustAccImprWatUrb</th>\n",
       "      <th>SustAccImprSanRur</th>\n",
       "      <th>SustAccImprSanUrb</th>\n",
       "      <th>TotHlthExpPctofGDP</th>\n",
       "      <th>GenGovtPctofTotHlthExp</th>\n",
       "      <th>ExtResHlthPctTotExpHlth</th>\n",
       "      <th>PCptaGovtExpHlthAvgExcRt</th>\n",
       "      <th>GDPPCptaIntDol</th>\n",
       "      <th>AdultLtrcyRate</th>\n",
       "      <th>FemaleLtrcyRate</th>\n",
       "      <th>BurdenOfDisease</th>\n",
       "    </tr>\n",
       "  </thead>\n",
       "  <tbody>\n",
       "    <tr>\n",
       "      <th>0</th>\n",
       "      <td>Country 1</td>\n",
       "      <td>1.0</td>\n",
       "      <td>0.18</td>\n",
       "      <td>51021</td>\n",
       "      <td>0.69307</td>\n",
       "      <td>0.84158</td>\n",
       "      <td>0.47525</td>\n",
       "      <td>0.70297</td>\n",
       "      <td>0.045</td>\n",
       "      <td>0.443</td>\n",
       "      <td>0.0010</td>\n",
       "      <td>65</td>\n",
       "      <td>6104</td>\n",
       "      <td>0.92475</td>\n",
       "      <td>0.92178</td>\n",
       "      <td>medium</td>\n",
       "    </tr>\n",
       "    <tr>\n",
       "      <th>1</th>\n",
       "      <td>Country 2</td>\n",
       "      <td>1.0</td>\n",
       "      <td>0.24</td>\n",
       "      <td>60614</td>\n",
       "      <td>0.58416</td>\n",
       "      <td>0.99010</td>\n",
       "      <td>0.63366</td>\n",
       "      <td>0.95050</td>\n",
       "      <td>0.061</td>\n",
       "      <td>0.488</td>\n",
       "      <td>0.0005</td>\n",
       "      <td>137</td>\n",
       "      <td>12505</td>\n",
       "      <td>0.95248</td>\n",
       "      <td>0.95149</td>\n",
       "      <td>low</td>\n",
       "    </tr>\n",
       "    <tr>\n",
       "      <th>2</th>\n",
       "      <td>Country 3</td>\n",
       "      <td>1.0</td>\n",
       "      <td>0.00</td>\n",
       "      <td>3404</td>\n",
       "      <td>0.77228</td>\n",
       "      <td>0.94059</td>\n",
       "      <td>0.94059</td>\n",
       "      <td>0.98020</td>\n",
       "      <td>0.073</td>\n",
       "      <td>0.868</td>\n",
       "      <td>0.0020</td>\n",
       "      <td>183</td>\n",
       "      <td>3649</td>\n",
       "      <td>0.96040</td>\n",
       "      <td>0.95941</td>\n",
       "      <td>low</td>\n",
       "    </tr>\n",
       "  </tbody>\n",
       "</table>\n",
       "</div>"
      ],
      "text/plain": [
       "     Country  FrxnPeaceIn10  ODA4H2OPcptaDol  RenewResm3PcptaYr  \\\n",
       "0  Country 1            1.0             0.18              51021   \n",
       "1  Country 2            1.0             0.24              60614   \n",
       "2  Country 3            1.0             0.00               3404   \n",
       "\n",
       "   SustAccImprWatRur  SustAccImprWatUrb  SustAccImprSanRur  SustAccImprSanUrb  \\\n",
       "0            0.69307            0.84158            0.47525            0.70297   \n",
       "1            0.58416            0.99010            0.63366            0.95050   \n",
       "2            0.77228            0.94059            0.94059            0.98020   \n",
       "\n",
       "   TotHlthExpPctofGDP  GenGovtPctofTotHlthExp  ExtResHlthPctTotExpHlth  \\\n",
       "0               0.045                   0.443                   0.0010   \n",
       "1               0.061                   0.488                   0.0005   \n",
       "2               0.073                   0.868                   0.0020   \n",
       "\n",
       "   PCptaGovtExpHlthAvgExcRt  GDPPCptaIntDol  AdultLtrcyRate  FemaleLtrcyRate  \\\n",
       "0                        65            6104         0.92475          0.92178   \n",
       "1                       137           12505         0.95248          0.95149   \n",
       "2                       183            3649         0.96040          0.95941   \n",
       "\n",
       "  BurdenOfDisease  \n",
       "0          medium  \n",
       "1             low  \n",
       "2             low  "
      ]
     },
     "execution_count": 30,
     "metadata": {},
     "output_type": "execute_result"
    }
   ],
   "source": [
    "data=pd.read_csv(\"D:/Shantanu/NYU CUSP/Machine learning for cities/HW assignments/Burden of diarrheal illness by country.csv\")\n",
    "data.head(3)"
   ]
  },
  {
   "cell_type": "markdown",
   "metadata": {},
   "source": [
    "### Data dictionary\n",
    "\n",
    "NAME: Burden of diarrheal illness by country\n",
    "\n",
    "SIZE: 130 Countries, 16 Variables\n",
    "\n",
    "VARIABLE DESCRIPTIONS:\n",
    "\n",
    "Country: Country name\n",
    "\n",
    "FrxnPeaceIn10: Fraction of the past ten years in which a country has been at peace \n",
    "\n",
    "ODA4H2OPcptaDol: Per Capita Official Developmental Assistance for water projects\n",
    "\n",
    "RenewResm3PcptaYr: Renewable Water Resources in cubic meters per capita per year\n",
    "\n",
    "SustAccImprWatRur: Fraction of rural population with sustainable access to improved water\n",
    "\n",
    "SustAccImprWatUrb: Fraction of urban population with sustainable access to improved water\n",
    "\n",
    "SustAccImprSanRur: Fraction of rural population with sustainable access to improved sanitation\n",
    "\n",
    "SustAccImprSanUrb: Fraction of urban population with sustainable access to improved sanitation\n",
    "\n",
    "TotHlthExpPctofGDP: Fraction of a country's GDP devoted to health spending\n",
    "\n",
    "GenGovtPctofTotHlthExp: The fraction of total health expenditures for a country which is provided by the government\n",
    "\n",
    "ExtResHlthPctTotExpHlth: The fraction of total health expenditures for a country which is comes from sources external to the country\n",
    "\n",
    "PCptaGovtExpHlthAvgExcRt: Per Capita Government Health Expenditures at the average exchange rate\n",
    "\n",
    "GDPPCptaIntDol: Gross Domestic Product per capita in international dollars\n",
    "\n",
    "AdultLtrcyRate: Adult Literacy rate\n",
    "\n",
    "FemaleLtrcyRate: Female Literacy rate\n",
    "\n",
    "BurdenOfDisease: Our target variable for classification.  The burden of disease due to diarrheal illness, categorized into \"low\", \"medium\", \"high\", and \"awful\" quartiles.  For each country, we have estimates of the number of Disability-Adjusted Life Years lost per 1000 persons per year (DALYs) due to diarrheal illness.  Countries with \"low\" burden of disease have up to 2.75345 DALYs; countries with \"medium\" burden of disease have between 2.75345 and 8.2127 DALYs; countries with \"high\" burden of disease have between 8.2127 and 26.699 DALYs; and countries with \"awful\" burden of diease have more than 26.699 DALYs."
   ]
  },
  {
   "cell_type": "markdown",
   "metadata": {},
   "source": [
    "### Your goal is to train a decision tree classifier for the attribute “BurdenOfDisease\" using all other variables (except country name) as features with sklearn.tree.DecisionTreeClassifier. \n",
    "http://scikit-learn.org/stable/modules/generated/sklearn.tree.DecisionTreeClassifier.html"
   ]
  },
  {
   "cell_type": "markdown",
   "metadata": {},
   "source": [
    "a) Please choose a train/test split and choose a hyper-parameter governing model simplicity, for example, the maximum tree depth or maximum number of leaf nodes. Then, fit your decision tree classifier (using the training set) for different values of this parameter and for each such value, record the corresponding classification accuracy on the test set. (10 pts)"
   ]
  },
  {
   "cell_type": "code",
   "execution_count": 46,
   "metadata": {},
   "outputs": [
    {
     "name": "stdout",
     "output_type": "stream",
     "text": [
      "    FrxnPeaceIn10  ODA4H2OPcptaDol  RenewResm3PcptaYr  SustAccImprWatRur  \\\n",
      "32            1.0             0.00              25708            0.99010   \n",
      "76            0.9             0.52              19192            0.40594   \n",
      "2             1.0             0.00               3404            0.77228   \n",
      "25            1.0             0.00              21268            0.99010   \n",
      "90            0.2             0.41               1576            0.86139   \n",
      "\n",
      "    SustAccImprWatUrb  SustAccImprSanRur  SustAccImprSanUrb  \\\n",
      "32            0.99010            0.99010            0.99010   \n",
      "76            0.83168            0.32673            0.62376   \n",
      "2             0.94059            0.94059            0.98020   \n",
      "25            0.99010            0.99010            0.99010   \n",
      "90            0.94059            0.34653            0.91089   \n",
      "\n",
      "    TotHlthExpPctofGDP  GenGovtPctofTotHlthExp  ExtResHlthPctTotExpHlth  \\\n",
      "32               0.095                   0.675                   0.0005   \n",
      "76               0.042                   0.289                   0.0320   \n",
      "2                0.073                   0.868                   0.0020   \n",
      "25               0.074                   0.765                   0.0005   \n",
      "90               0.024                   0.277                   0.0250   \n",
      "\n",
      "    PCptaGovtExpHlthAvgExcRt  GDPPCptaIntDol  AdultLtrcyRate  FemaleLtrcyRate  \n",
      "32                      1699           31454         0.98020          0.98020  \n",
      "76                        11            1606         0.78218          0.72673  \n",
      "2                        183            3649         0.96040          0.95941  \n",
      "25                      1766           30415         0.99010          0.99010  \n",
      "90                         4            2151         0.48218          0.34851  \n"
     ]
    },
    {
     "data": {
      "text/plain": [
       "DecisionTreeClassifier()"
      ]
     },
     "execution_count": 46,
     "metadata": {},
     "output_type": "execute_result"
    }
   ],
   "source": [
    "from sklearn.model_selection import train_test_split\n",
    "import warnings\n",
    "from sklearn.model_selection import GridSearchCV\n",
    "from sklearn.tree import DecisionTreeClassifier\n",
    "from sklearn.metrics import accuracy_score\n",
    "from sklearn.metrics import roc_auc_score\n",
    "from sklearn import preprocessing\n",
    "\n",
    "\n",
    "data=data.dropna()\n",
    "y=data.loc[:,\"BurdenOfDisease\"]\n",
    "X=data.loc[:,\"FrxnPeaceIn10\":\"FemaleLtrcyRate\"]\n",
    "X=pd.get_dummies(X)\n",
    "\n",
    "\n",
    "X_train,X_test,y_train,y_test=train_test_split(X, y, test_size=0.4, random_state=55)\n",
    "print(X_train.head())\n",
    "\n",
    "dt=DecisionTreeClassifier()\n",
    "dt.fit(X_train,y_train)\n"
   ]
  },
  {
   "cell_type": "code",
   "execution_count": 66,
   "metadata": {},
   "outputs": [
    {
     "name": "stdout",
     "output_type": "stream",
     "text": [
      "AUC ROC:  [0.7313670126170128, 0.7416666666666667, 0.7970813908313907, 0.7341880341880342, 0.7336052836052837, 0.717948717948718, 0.7226292226292226, 0.7443181818181818]\n"
     ]
    }
   ],
   "source": [
    "OS=[]\n",
    "for i in range(2,10):\n",
    "    X_train, X_test, y_train, y_test = train_test_split(X, y, test_size = 0.4, random_state = i)    \n",
    "    dt = DecisionTreeClassifier()\n",
    "    dt.fit(X_train,y_train)\n",
    "    OS.append(roc_auc_score(y_test,dt.predict_proba(X_test),multi_class = 'ovo'))\n",
    "print(\"AUC ROC: \",OS)    "
   ]
  },
  {
   "cell_type": "markdown",
   "metadata": {},
   "source": [
    "b) Make a plot of accuracy vs. simplicity for different values of the hyper-parameter chosen in part a). That is, the x-axis should be hyper-parameter value (e.g. tree depth) and the y-axis should be accuracy. (10 pts)"
   ]
  },
  {
   "cell_type": "code",
   "execution_count": 62,
   "metadata": {},
   "outputs": [
    {
     "data": {
      "image/png": "[encoded data removed]",
      "text/plain": [
       "<Figure size 504x360 with 1 Axes>"
      ]
     },
     "metadata": {
      "needs_background": "light"
     },
     "output_type": "display_data"
    }
   ],
   "source": [
    "import matplotlib.pylab as plt\n",
    "\n",
    "plt.figure(figsize=(7,5))\n",
    "plt.plot(range(2,10),OS)\n",
    "plt.xlabel(\"Maxleafnodes\")\n",
    "plt.ylabel(\"ROC AUC\")\n",
    "plt.title(\"AUC vs max leaf nodes\")\n",
    "plt.xlim(1,12)\n",
    "plt.show()"
   ]
  },
  {
   "cell_type": "markdown",
   "metadata": {},
   "source": [
    "c) Tune the hyper-parameter you choose in part a) by cross-validation using the training data. You can choose to use the GridSearchCV package from sklearn or write your own code to do cross-validation by spliting the training data into training and validation data. What is the out of sample accuracy after tuning the hyper-parameter? (10 pts)"
   ]
  },
  {
   "cell_type": "code",
   "execution_count": 68,
   "metadata": {},
   "outputs": [
    {
     "name": "stdout",
     "output_type": "stream",
     "text": [
      "{'max_depth': 2}\n",
      "0.8244047619047619\n"
     ]
    }
   ],
   "source": [
    "\n",
    "warnings.filterwarnings('ignore')\n",
    "warnings.simplefilter(action='ignore', category=FutureWarning)\n",
    "\n",
    "from sklearn.model_selection import cross_val_score\n",
    "\n",
    "param_grid = {'max_depth':range(2,10)}\n",
    "dt=DecisionTreeClassifier()\n",
    "gr=GridSearchCV(dt,param_grid=param_grid,scoring='roc_auc')\n",
    "rs=gr.fit(X_train,y_train)\n",
    "print(rs.best_params_)\n",
    "print(roc_auc_score(np.array(y_test),rs.predict_proba(X_test),multi_class = 'ovo'))"
   ]
  },
  {
   "cell_type": "markdown",
   "metadata": {},
   "source": [
    "d) Visualize a simple decision tree (e.g., with max_depth = 2 or 3) learned from the data.  To do so, given your decision tree dt, you can use the code below, then copy and paste the resulting output into http://www.webgraphviz.com.  Alternatively, if you have graphviz installed on your machine, you can use that. (10 pts)"
   ]
  },
  {
   "cell_type": "code",
   "execution_count": 71,
   "metadata": {},
   "outputs": [
    {
     "data": {
      "image/png": "[encoded data removed]",
      "text/plain": [
       "<IPython.core.display.Image object>"
      ]
     },
     "execution_count": 71,
     "metadata": {},
     "output_type": "execute_result"
    }
   ],
   "source": [
    "dt = DecisionTreeClassifier(max_depth=rs.best_params_['max_depth']) \n",
    "dt.fit(X_train,y_train)\n",
    "\n",
    "\n",
    "from sklearn import tree\n",
    "from IPython.display import Image  \n",
    "import pydotplus\n",
    "thestring = tree.export_graphviz(dt, out_file=None,  \n",
    "                         feature_names=X_train.columns.values, \n",
    "                         class_names=['medium', 'low', 'high', 'awful'],  \n",
    "                         filled=True, rounded=True,  \n",
    "                         special_characters=True,impurity=False)\n",
    "graph = pydotplus.graph_from_dot_data(thestring)  \n",
    "Image(graph.create_png())  "
   ]
  },
  {
   "cell_type": "markdown",
   "metadata": {},
   "source": [
    "### Question 4, Fit a random forest to the data from question 3 (20+10 pts)\n",
    "\n",
    "a) Please use the same test/train split from previous question and feel free to tune the hyper-parameters for Random Forest model using training data. The package from sklearn is here: http://scikit-learn.org/stable/modules/generated/sklearn.ensemble.RandomForestClassifier.html.\n",
    "Then please report your out of sample prediction result and compare this model's performance with 3c). (20 pts)"
   ]
  },
  {
   "cell_type": "code",
   "execution_count": 80,
   "metadata": {},
   "outputs": [
    {
     "name": "stdout",
     "output_type": "stream",
     "text": [
      "{'criterion': 'gini', 'max_depth': 2, 'n_estimators': 5, 'random_state': 66}\n",
      "0.8629937770562771\n"
     ]
    }
   ],
   "source": [
    "from sklearn.ensemble import RandomForestClassifier\n",
    "\n",
    "param_grid = {'n_estimators':range(5,50,5),\n",
    "              'max_depth' : range(2,10),\n",
    "    'criterion' :['gini','entropy'],\n",
    "    'random_state' : [66]}\n",
    "rf = RandomForestClassifier()\n",
    "gs = GridSearchCV(rf,param_grid=param_grid,scoring='roc_auc')\n",
    "rs = gs.fit(X_train,y_train)\n",
    "pred=rs.predict_proba(X_test)\n",
    "print(rs.best_params_)\n",
    "print(roc_auc_score(np.array(y_test),pred,multi_class = 'ovo'))"
   ]
  },
  {
   "cell_type": "markdown",
   "metadata": {},
   "source": [
    "The ROC_AUC accuracy in random forrest is slighly greater than the one achieved in 3c The time taken for the random forests was also more."
   ]
  },
  {
   "cell_type": "markdown",
   "metadata": {},
   "source": [
    "b) **Bonus:** Write one paragraph comparing the results from those two models (Random Forest vs Decision Tree) in terms of both accuracy and interpretability. (10 pts)"
   ]
  },
  {
   "cell_type": "markdown",
   "metadata": {},
   "source": [
    "The two models have achieved similar accuracy, with Random forest model accuracy being slightly more.Taking into consideration the small size of the sample, the interpretability of the decision tree is more and the maximum depth achieved is quite readable. The values therefore, are correlated to the sample size taken. Possibly we can increase on the accuracy by having a large dataset that gives an option to increase the number of estimators and sample size, but that would inturn affect the interpretability of the dataset and the model. For this example the model of decision tree is preferred, as its easier to visualse and interpret and the time taken for running the model was also less in comparison to random forest. The decision tree model would have still been interpretable to an extent had we increased the maximum depth range of the model."
   ]
  },
  {
   "cell_type": "code",
   "execution_count": null,
   "metadata": {},
   "outputs": [],
   "source": []
  }
 ],
 "metadata": {
  "anaconda-cloud": {},
  "celltoolbar": "Raw Cell Format",
  "kernelspec": {
   "display_name": "Python 3",
   "language": "python",
   "name": "python3"
  },
  "language_info": {
   "codemirror_mode": {
    "name": "ipython",
    "version": 3
   },
   "file_extension": ".py",
   "mimetype": "text/x-python",
   "name": "python",
   "nbconvert_exporter": "python",
   "pygments_lexer": "ipython3",
   "version": "3.8.8"
  }
 },
 "nbformat": 4,
 "nbformat_minor": 4
}
